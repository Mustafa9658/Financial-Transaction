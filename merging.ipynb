{
 "cells": [
  {
   "cell_type": "code",
   "execution_count": 1,
   "metadata": {
    "id": "G0ZTFvqRmrqB"
   },
   "outputs": [],
   "source": [
    "import pandas as pd"
   ]
  },
  {
   "cell_type": "code",
   "execution_count": 8,
   "metadata": {
    "id": "bkfDyecLm-9_"
   },
   "outputs": [
    {
     "name": "stdout",
     "output_type": "stream",
     "text": [
      "All DataFrames have the same column names.\n"
     ]
    }
   ],
   "source": [
    "\n",
    "# Read the CSV files into DataFrames\n",
    "md = pd.read_csv('manufacturer.csv')\n",
    "hd = pd.read_csv('healthcare.csv')\n",
    "soft = pd.read_csv('Software_industry.csv')\n",
    "real = pd.read_csv('real_estate_financial_data.csv')\n",
    "\n",
    "# Create a list of column names for each DataFrame\n",
    "column_names = [md.columns.tolist(), hd.columns.tolist(), soft.columns.tolist(), real.columns.tolist()]\n",
    "\n",
    "# Check if all column names are the same\n",
    "if all(names == column_names[0] for names in column_names[1:]):\n",
    "    print(\"All DataFrames have the same column names.\")\n",
    "else:\n",
    "    print(\"Not all DataFrames have the same column names.\")\n"
   ]
  },
  {
   "cell_type": "code",
   "execution_count": 9,
   "metadata": {
    "colab": {
     "base_uri": "https://localhost:8080/"
    },
    "id": "O6m2Gbg_sWl9",
    "outputId": "32070b9f-9f9b-443a-821b-06debbb5c282"
   },
   "outputs": [
    {
     "name": "stdout",
     "output_type": "stream",
     "text": [
      "All columns in Manufactuerer are same as target column names.\n",
      "All columns in health_cre are same as target column names.\n",
      "All columns in soft are same as target column names.\n",
      "All columns in real are same as target column names.\n"
     ]
    }
   ],
   "source": [
    "import pandas as pd\n",
    "\n",
    "\n",
    "\n",
    "# Define the column names you want to compare\n",
    "target_column_names = ['Description', 'Amount', 'Category', 'Subcategory', 'Date',\n",
    "                      'Company ID', 'Industry', 'vendor_or_consumer', 'Payment Method',\n",
    "                      'Currency', 'Geographical Location', 'Account Number',\n",
    "                      'Reference Number', 'Approval Status', 'Customer Type']\n",
    "\n",
    "# Create a dictionary to store column names for each DataFrame\n",
    "column_names_dict = {\n",
    "    'Manufactuerer': md.columns.tolist(),\n",
    "   \n",
    "    'health_cre': hd.columns.tolist(),\n",
    "    'soft': soft.columns.tolist(),\n",
    "    'real': real.columns.tolist()\n",
    "}\n",
    "\n",
    "# Compare column names of each DataFrame with the target column names\n",
    "for df_name, columns in column_names_dict.items():\n",
    "    diff_columns = set(target_column_names).symmetric_difference(set(columns))\n",
    "    if diff_columns:\n",
    "        print(f\"Columns in {df_name} are different from target column names:\")\n",
    "        print(f\"{df_name}: {columns}\")\n",
    "        print(f\"Differences: {diff_columns}\")\n",
    "        print()\n",
    "    else:\n",
    "        print(f\"All columns in {df_name} are same as target column names.\")\n"
   ]
  },
  {
   "cell_type": "code",
   "execution_count": 10,
   "metadata": {
    "id": "RpyUkkjOw6Gh"
   },
   "outputs": [],
   "source": [
    "\n",
    "# Concatenate all the datasets\n",
    "merged_df = pd.concat([soft, real, md, hd], ignore_index=True)\n",
    "\n",
    "# Save the merged dataset to a new CSV file\n",
    "merged_df.to_csv('merged_dataset.csv', index=False)\n"
   ]
  },
  {
   "cell_type": "code",
   "execution_count": null,
   "metadata": {},
   "outputs": [],
   "source": []
  }
 ],
 "metadata": {
  "colab": {
   "provenance": []
  },
  "kernelspec": {
   "display_name": "Python 3 (ipykernel)",
   "language": "python",
   "name": "python3"
  },
  "language_info": {
   "codemirror_mode": {
    "name": "ipython",
    "version": 3
   },
   "file_extension": ".py",
   "mimetype": "text/x-python",
   "name": "python",
   "nbconvert_exporter": "python",
   "pygments_lexer": "ipython3",
   "version": "3.11.7"
  }
 },
 "nbformat": 4,
 "nbformat_minor": 4
}
